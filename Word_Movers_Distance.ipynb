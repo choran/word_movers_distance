{
 "cells": [
  {
   "cell_type": "markdown",
   "metadata": {},
   "source": [
    "# Simple example of Word Mover Distance\n",
    "Here we will use the gensim library to show how easy it is to implement the WMD in python"
   ]
  },
  {
   "cell_type": "markdown",
   "metadata": {},
   "source": [
    "### Import the libraries needed"
   ]
  },
  {
   "cell_type": "raw",
   "metadata": {},
   "source": [
    "!pip install pyemd"
   ]
  },
  {
   "cell_type": "code",
   "execution_count": 1,
   "metadata": {},
   "outputs": [
    {
     "name": "stderr",
     "output_type": "stream",
     "text": [
      "[nltk_data] Downloading package stopwords to\n",
      "[nltk_data]     /Users/cathalhoran/nltk_data...\n",
      "[nltk_data]   Package stopwords is already up-to-date!\n"
     ]
    }
   ],
   "source": [
    "import pandas as pd\n",
    "# Import and download stopwords from NLTK.\n",
    "from nltk.corpus import stopwords\n",
    "from nltk import download\n",
    "download('stopwords')  # Download stopwords list.\n",
    "stop_words = stopwords.words('english')"
   ]
  },
  {
   "cell_type": "markdown",
   "metadata": {},
   "source": [
    "### Download a pre-trained embedding model\n",
    "For this example we don't want to train our own embeddings so let's use a pre-trained model. <br>\n",
    "There are many available and you can check them out [here](https://radimrehurek.com/gensim/auto_examples/howtos/run_downloader_api.html). <br>\n",
    "Note that in general, the larger the model the more accurate it is. <br>\n",
    "So be sure and try some different ones and see what impact they have on the accuracy. <br>\n",
    "We use the `word2vec-google-news-300` one here which is one of the largest models available. <br>\n",
    "But you can test it with a much smaller one like `glove-twitter-25`.<br>"
   ]
  },
  {
   "cell_type": "code",
   "execution_count": 2,
   "metadata": {},
   "outputs": [],
   "source": [
    "import gensim.downloader as api\n",
    "model = api.load('word2vec-google-news-300')"
   ]
  },
  {
   "cell_type": "markdown",
   "metadata": {},
   "source": [
    "### Clean the text\n",
    "You want to remove differences due to things like capitalisation. <br>\n",
    "But also you want to remove stop words which carry very little informatio. <br>"
   ]
  },
  {
   "cell_type": "code",
   "execution_count": 3,
   "metadata": {},
   "outputs": [],
   "source": [
    "def preprocess(sentence):\n",
    "    return [w for w in sentence.lower().split() if w not in stop_words]"
   ]
  },
  {
   "cell_type": "markdown",
   "metadata": {},
   "source": [
    "### Create your test sentences\n",
    "You can use any sentnece you like here"
   ]
  },
  {
   "cell_type": "code",
   "execution_count": 4,
   "metadata": {},
   "outputs": [],
   "source": [
    "sentences = [\"I would like to reset my password\",\n",
    "             \"Can I change my password\", \n",
    "             \"can I edit my password\",\n",
    "             \"Where is the nearest restaurant?\", \n",
    "             \"Can I change my clothes\"]"
   ]
  },
  {
   "cell_type": "code",
   "execution_count": 5,
   "metadata": {
    "scrolled": true
   },
   "outputs": [
    {
     "name": "stdout",
     "output_type": "stream",
     "text": [
      "Original Sentence: I would like to reset my password\n",
      "Cleaned Sentence: ['would', 'like', 'reset', 'password']\n",
      "Original Sentence: Can I change my password\n",
      "Cleaned Sentence: ['change', 'password']\n",
      "Original Sentence: can I edit my password\n",
      "Cleaned Sentence: ['edit', 'password']\n",
      "Original Sentence: Where is the nearest restaurant?\n",
      "Cleaned Sentence: ['nearest', 'restaurant?']\n",
      "Original Sentence: Can I change my clothes\n",
      "Cleaned Sentence: ['change', 'clothes']\n"
     ]
    }
   ],
   "source": [
    "cleaned_sentences = []\n",
    "for s in sentences:\n",
    "    print(f'Original Sentence: {s}')\n",
    "    cleaned_sentences.append(preprocess(s))\n",
    "    print(f'Cleaned Sentence: {preprocess(s)}')"
   ]
  },
  {
   "cell_type": "markdown",
   "metadata": {},
   "source": [
    "### Display results in a grid format\n",
    "One thing to always do when using similairty measures is to compare the sentence with itself. <br>\n",
    "This will ensure: <br>\n",
    "<ol>\n",
    "  <li>Metric works: Any metric should be able to identify identical sentences</li>\n",
    "  <li>Sorting works: And you need to ensure you are assoicating the correct score with the relevant sentences</li>\n",
    "</ol>\n",
    "We will compare all the sentences with each other here and display the results in a grid. <br>"
   ]
  },
  {
   "cell_type": "code",
   "execution_count": 7,
   "metadata": {
    "scrolled": true
   },
   "outputs": [
    {
     "data": {
      "text/html": [
       "<div>\n",
       "<style scoped>\n",
       "    .dataframe tbody tr th:only-of-type {\n",
       "        vertical-align: middle;\n",
       "    }\n",
       "\n",
       "    .dataframe tbody tr th {\n",
       "        vertical-align: top;\n",
       "    }\n",
       "\n",
       "    .dataframe thead th {\n",
       "        text-align: right;\n",
       "    }\n",
       "</style>\n",
       "<table border=\"1\" class=\"dataframe\">\n",
       "  <thead>\n",
       "    <tr style=\"text-align: right;\">\n",
       "      <th></th>\n",
       "      <th>I would like to reset my password</th>\n",
       "      <th>Can I change my password</th>\n",
       "      <th>can I edit my password</th>\n",
       "      <th>Where is the nearest restaurant?</th>\n",
       "      <th>Can I change my clothes</th>\n",
       "    </tr>\n",
       "  </thead>\n",
       "  <tbody>\n",
       "    <tr>\n",
       "      <td>I would like to reset my password</td>\n",
       "      <td>0.0</td>\n",
       "      <td>2.7</td>\n",
       "      <td>3.4</td>\n",
       "      <td>4.2</td>\n",
       "      <td>3.8</td>\n",
       "    </tr>\n",
       "    <tr>\n",
       "      <td>Can I change my password</td>\n",
       "      <td>2.7</td>\n",
       "      <td>0.0</td>\n",
       "      <td>2.2</td>\n",
       "      <td>4.7</td>\n",
       "      <td>2.8</td>\n",
       "    </tr>\n",
       "    <tr>\n",
       "      <td>can I edit my password</td>\n",
       "      <td>3.4</td>\n",
       "      <td>2.2</td>\n",
       "      <td>0.0</td>\n",
       "      <td>5.3</td>\n",
       "      <td>5.0</td>\n",
       "    </tr>\n",
       "    <tr>\n",
       "      <td>Where is the nearest restaurant?</td>\n",
       "      <td>4.2</td>\n",
       "      <td>4.7</td>\n",
       "      <td>5.3</td>\n",
       "      <td>0.0</td>\n",
       "      <td>4.0</td>\n",
       "    </tr>\n",
       "    <tr>\n",
       "      <td>Can I change my clothes</td>\n",
       "      <td>3.8</td>\n",
       "      <td>2.8</td>\n",
       "      <td>5.0</td>\n",
       "      <td>4.0</td>\n",
       "      <td>0.0</td>\n",
       "    </tr>\n",
       "  </tbody>\n",
       "</table>\n",
       "</div>"
      ],
      "text/plain": [
       "                                   I would like to reset my password  \\\n",
       "I would like to reset my password                                0.0   \n",
       "Can I change my password                                         2.7   \n",
       "can I edit my password                                           3.4   \n",
       "Where is the nearest restaurant?                                 4.2   \n",
       "Can I change my clothes                                          3.8   \n",
       "\n",
       "                                   Can I change my password  \\\n",
       "I would like to reset my password                       2.7   \n",
       "Can I change my password                                0.0   \n",
       "can I edit my password                                  2.2   \n",
       "Where is the nearest restaurant?                        4.7   \n",
       "Can I change my clothes                                 2.8   \n",
       "\n",
       "                                   can I edit my password  \\\n",
       "I would like to reset my password                     3.4   \n",
       "Can I change my password                              2.2   \n",
       "can I edit my password                                0.0   \n",
       "Where is the nearest restaurant?                      5.3   \n",
       "Can I change my clothes                               5.0   \n",
       "\n",
       "                                   Where is the nearest restaurant?  \\\n",
       "I would like to reset my password                               4.2   \n",
       "Can I change my password                                        4.7   \n",
       "can I edit my password                                          5.3   \n",
       "Where is the nearest restaurant?                                0.0   \n",
       "Can I change my clothes                                         4.0   \n",
       "\n",
       "                                   Can I change my clothes  \n",
       "I would like to reset my password                      3.8  \n",
       "Can I change my password                               2.8  \n",
       "can I edit my password                                 5.0  \n",
       "Where is the nearest restaurant?                       4.0  \n",
       "Can I change my clothes                                0.0  "
      ]
     },
     "execution_count": 7,
     "metadata": {},
     "output_type": "execute_result"
    }
   ],
   "source": [
    "res = {}\n",
    "for sen in sentences:\n",
    "    res[sen] = []\n",
    "\n",
    "for i, s1 in enumerate(sentences):\n",
    "    for j, s2 in enumerate(sentences):\n",
    "        wmd_score = model.wmdistance(cleaned_sentences[i], cleaned_sentences[j])\n",
    "        res[s1].append(round(wmd_score, 1))\n",
    "    \n",
    "pd.DataFrame(res, index=[s for s in sentences])"
   ]
  }
 ],
 "metadata": {
  "kernelspec": {
   "display_name": "Python 3",
   "language": "python",
   "name": "python3"
  },
  "language_info": {
   "codemirror_mode": {
    "name": "ipython",
    "version": 3
   },
   "file_extension": ".py",
   "mimetype": "text/x-python",
   "name": "python",
   "nbconvert_exporter": "python",
   "pygments_lexer": "ipython3",
   "version": "3.7.5"
  }
 },
 "nbformat": 4,
 "nbformat_minor": 4
}
